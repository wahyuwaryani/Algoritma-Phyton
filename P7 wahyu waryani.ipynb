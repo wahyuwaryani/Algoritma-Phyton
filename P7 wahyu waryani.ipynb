{
  "nbformat": 4,
  "nbformat_minor": 0,
  "metadata": {
    "colab": {
      "provenance": [],
      "toc_visible": true,
      "include_colab_link": true
    },
    "kernelspec": {
      "name": "python3",
      "display_name": "Python 3"
    },
    "language_info": {
      "name": "python"
    }
  },
  "cells": [
    {
      "cell_type": "markdown",
      "metadata": {
        "id": "view-in-github",
        "colab_type": "text"
      },
      "source": [
        "<a href=\"https://colab.research.google.com/github/wahyuwaryani/Algoritma-Phyton/blob/main/P7%20wahyu%20waryani.ipynb\" target=\"_parent\"><img src=\"https://colab.research.google.com/assets/colab-badge.svg\" alt=\"Open In Colab\"/></a>"
      ]
    },
    {
      "cell_type": "markdown",
      "source": [
        "**WHILE LOOP**"
      ],
      "metadata": {
        "id": "9GYtZuZCz-kw"
      }
    },
    {
      "cell_type": "code",
      "execution_count": null,
      "metadata": {
        "colab": {
          "base_uri": "https://localhost:8080/"
        },
        "id": "oXFmWYPfv05i",
        "outputId": "e2bd924e-aba0-4b8a-9127-ffc2334d5a36"
      },
      "outputs": [
        {
          "output_type": "stream",
          "name": "stdout",
          "text": [
            "The count is:  0\n",
            "The count is:  1\n",
            "The count is:  2\n",
            "The count is:  3\n",
            "The count is:  4\n",
            "The count is:  5\n",
            "The count is:  6\n",
            "The count is:  7\n",
            "The count is:  8\n",
            "Good bye!\n"
          ]
        }
      ],
      "source": [
        "#Contoh penggunaan While Loop\n",
        "#Catatan: Penentuan ruang lingkup di Python bisa menggunakan tab alih-alih menggunakan tanda kurung\n",
        "\n",
        "count = 0\n",
        "while (count < 9):\n",
        "  print (\"The count is: \", count)\n",
        "  count = count + 1\n",
        "\n",
        "print (\"Good bye!\")"
      ]
    },
    {
      "cell_type": "code",
      "source": [
        "a = 3\n",
        "# blok while akan dieksekusi\n",
        "# selama a > 3\n",
        "while a > 0:\n",
        "    print(\"a =\", a, \"> 0\")\n",
        "    a = a - 1\n",
        "    print(\"    a sekarang :\", a)"
      ],
      "metadata": {
        "colab": {
          "base_uri": "https://localhost:8080/"
        },
        "id": "6Tx2mk2s3LF9",
        "outputId": "9a403a71-c3d7-4c6a-8d58-920daeb4af30"
      },
      "execution_count": null,
      "outputs": [
        {
          "output_type": "stream",
          "name": "stdout",
          "text": [
            "a = 3 > 0\n",
            "    a sekarang : 2\n",
            "a = 2 > 0\n",
            "    a sekarang : 1\n",
            "a = 1 > 0\n",
            "    a sekarang : 0\n"
          ]
        }
      ]
    },
    {
      "cell_type": "code",
      "source": [
        "# contoh INFINITE LOOP\n",
        "# !!!hentikan program secara manual!!!\n",
        "# nilai b = 1 dan 1 > 0\n",
        "# karena nilai b tidak pernah berubah di dalam loop\n",
        "# maka kondisi akan selalu bernilai True\n",
        "b = 1     # b akan selalu bernilai 1\n",
        "while b > 0:\n",
        "    print(\"infinite loop\")"
      ],
      "metadata": {
        "id": "evGPoWRx3YsE"
      },
      "execution_count": null,
      "outputs": []
    },
    {
      "cell_type": "code",
      "source": [
        "jawab = 'ya'\n",
        "hitung = 0\n",
        "\n",
        "while(jawab == 'ya'):\n",
        "    hitung += 1\n",
        "    jawab = input(\"Ulang lagi tidak? \")\n",
        "\n",
        "print(\"Total perulagan: \",hitung)"
      ],
      "metadata": {
        "colab": {
          "base_uri": "https://localhost:8080/"
        },
        "id": "KEdOTF7zh9AB",
        "outputId": "bc7a3e1c-6ee4-4483-95f2-f4aa57dc677c"
      },
      "execution_count": null,
      "outputs": [
        {
          "output_type": "stream",
          "name": "stdout",
          "text": [
            "Ulang lagi tidak? ya\n",
            "Ulang lagi tidak? ya\n",
            "Ulang lagi tidak? tidak\n",
            "Total perulagan:  3\n"
          ]
        }
      ]
    },
    {
      "cell_type": "markdown",
      "source": [
        "**FOR LOOP**"
      ],
      "metadata": {
        "id": "PlWfazF00BUG"
      }
    },
    {
      "cell_type": "code",
      "source": [
        "#Contoh pengulangan for sederhana\n",
        "angka = [1,2,3,4,5]\n",
        "for x in angka:\n",
        "  print(x)"
      ],
      "metadata": {
        "colab": {
          "base_uri": "https://localhost:8080/"
        },
        "id": "m1DHjbUQwNWA",
        "outputId": "092a4afd-03ef-471f-c0ea-443fbaa98c37"
      },
      "execution_count": null,
      "outputs": [
        {
          "output_type": "stream",
          "name": "stdout",
          "text": [
            "1\n",
            "2\n",
            "3\n",
            "4\n",
            "5\n"
          ]
        }
      ]
    },
    {
      "cell_type": "code",
      "source": [
        "#Contoh pengulangan for\n",
        "buah = [\"nanas\", \"apel\", \"jeruk\"]\n",
        "for makanan in buah:\n",
        "  print (\"Saya suka makan\", makanan)"
      ],
      "metadata": {
        "colab": {
          "base_uri": "https://localhost:8080/"
        },
        "id": "8wv4-2y30HMP",
        "outputId": "ac75a36b-cf4b-4364-fb0d-221f444e60aa"
      },
      "execution_count": null,
      "outputs": [
        {
          "output_type": "stream",
          "name": "stdout",
          "text": [
            "Saya suka makan nanas\n",
            "Saya suka makan apel\n",
            "Saya suka makan jeruk\n"
          ]
        }
      ]
    },
    {
      "cell_type": "code",
      "source": [
        "ulang = 10\n",
        "\n",
        "for i in range(ulang):\n",
        "    print(f\"Perulangan ke-{i}\")"
      ],
      "metadata": {
        "colab": {
          "base_uri": "https://localhost:8080/"
        },
        "id": "1QegBOEUfasY",
        "outputId": "504e588a-c10f-4741-9559-15ecab77c681"
      },
      "execution_count": null,
      "outputs": [
        {
          "output_type": "stream",
          "name": "stdout",
          "text": [
            "Perulangan ke-0\n",
            "Perulangan ke-1\n",
            "Perulangan ke-2\n",
            "Perulangan ke-3\n",
            "Perulangan ke-4\n",
            "Perulangan ke-5\n",
            "Perulangan ke-6\n",
            "Perulangan ke-7\n",
            "Perulangan ke-8\n",
            "Perulangan ke-9\n"
          ]
        }
      ]
    },
    {
      "cell_type": "code",
      "source": [
        "# mencetak \"Pikachu\" sebanyak 5x\n",
        "for _ in range(5):\n",
        "    print(\"Pikachu\")"
      ],
      "metadata": {
        "colab": {
          "base_uri": "https://localhost:8080/"
        },
        "id": "7TZdjuWi0NAC",
        "outputId": "c34711fc-e965-4b9d-eb95-741d25537efe"
      },
      "execution_count": null,
      "outputs": [
        {
          "output_type": "stream",
          "name": "stdout",
          "text": [
            "Pikachu\n",
            "Pikachu\n",
            "Pikachu\n",
            "Pikachu\n",
            "Pikachu\n"
          ]
        }
      ]
    },
    {
      "cell_type": "code",
      "source": [
        "# mencetak nilai kuadrat 1-10 dengan step=2\n",
        "for val in range(1, 10, 2):\n",
        "    val_kuadrat = val**2\n",
        "    print(f\"{val}^2 adalah {val_kuadrat}\")"
      ],
      "metadata": {
        "colab": {
          "base_uri": "https://localhost:8080/"
        },
        "id": "IkGqyuDjzayK",
        "outputId": "a820faec-a0f6-4c51-d5cf-1514946abb7e"
      },
      "execution_count": null,
      "outputs": [
        {
          "output_type": "stream",
          "name": "stdout",
          "text": [
            "1^2 adalah 1\n",
            "3^2 adalah 9\n",
            "5^2 adalah 25\n",
            "7^2 adalah 49\n",
            "9^2 adalah 81\n"
          ]
        }
      ]
    },
    {
      "cell_type": "code",
      "source": [
        "# iterasi pada list\n",
        "skills = [\"Python\", \"R\", \"Julia\", \"Scala\"]\n",
        "for skill in skills:\n",
        "    print(\"Anda menguasai\", skill)\n",
        "print(\"-------------------------\")\n",
        "# iterasi pada list dengan menyertakan indeks (key)\n",
        "for idx, skill in enumerate(skills):\n",
        "    print(f\"Skill ke-{idx+1} : {skill}\")"
      ],
      "metadata": {
        "colab": {
          "base_uri": "https://localhost:8080/"
        },
        "id": "D-LaV_r62CQm",
        "outputId": "a99d3cc6-73f1-434e-8067-b009138e4a45"
      },
      "execution_count": null,
      "outputs": [
        {
          "output_type": "stream",
          "name": "stdout",
          "text": [
            "Anda menguasai Python\n",
            "Anda menguasai R\n",
            "Anda menguasai Julia\n",
            "Anda menguasai Scala\n",
            "-------------------------\n",
            "Skill ke-1 : Python\n",
            "Skill ke-2 : R\n",
            "Skill ke-3 : Julia\n",
            "Skill ke-4 : Scala\n"
          ]
        }
      ]
    },
    {
      "cell_type": "markdown",
      "source": [
        "**NESTED LOOP**"
      ],
      "metadata": {
        "id": "Et5Jhdn3hq6d"
      }
    },
    {
      "cell_type": "code",
      "source": [
        "# Program Python dengan Nested Loop\n",
        "\n",
        "# Input jumlah baris\n",
        "baris = int(input(\"Masukkan jumlah baris: \"))\n",
        "\n",
        "# Loop untuk membuat pola\n",
        "for i in range(1, baris + 1):\n",
        "    for j in range(1, i + 1):\n",
        "        print(\"*\", end=\" \")\n",
        "    print()  # Pindah ke baris berikutnya"
      ],
      "metadata": {
        "colab": {
          "base_uri": "https://localhost:8080/"
        },
        "id": "ewJPigodjO0u",
        "outputId": "e1d6d501-b04f-40f6-9b5f-c8705b2d06c4"
      },
      "execution_count": null,
      "outputs": [
        {
          "output_type": "stream",
          "name": "stdout",
          "text": [
            "Masukkan jumlah baris: 10\n",
            "* \n",
            "* * \n",
            "* * * \n",
            "* * * * \n",
            "* * * * * \n",
            "* * * * * * \n",
            "* * * * * * * \n",
            "* * * * * * * * \n",
            "* * * * * * * * * \n",
            "* * * * * * * * * * \n"
          ]
        }
      ]
    },
    {
      "cell_type": "code",
      "source": [
        "#Menamai Pasangan Hewan\n",
        "hewan1 = [\"Kucing\", \"Kelinci\", \"Hamster\"]\n",
        "hewan2 = [\"Besar\", \"Kecil\"]\n",
        "print(\"Pasangan hewan:\")\n",
        "for h1 in hewan1:\n",
        "    for h2 in hewan2:\n",
        "        print(h1, h2)"
      ],
      "metadata": {
        "colab": {
          "base_uri": "https://localhost:8080/"
        },
        "id": "wQwmpn5SxTTr",
        "outputId": "c0ee1cbe-1dd2-43ca-afca-cafc74c23347"
      },
      "execution_count": null,
      "outputs": [
        {
          "output_type": "stream",
          "name": "stdout",
          "text": [
            "Pasangan hewan:\n",
            "Kucing Besar\n",
            "Kucing Kecil\n",
            "Kelinci Besar\n",
            "Kelinci Kecil\n",
            "Hamster Besar\n",
            "Hamster Kecil\n"
          ]
        }
      ]
    },
    {
      "cell_type": "code",
      "source": [
        "#Daftar Hari dan Waktu\n",
        "hari = [\"Senin\", \"Selasa\", \"Rabu\"]\n",
        "waktu = [\"Pagi\", \"Siang\", \"Malam\"]\n",
        "print(\"Jadwal hari dan waktu:\")\n",
        "for h in hari:\n",
        "    for w in waktu:\n",
        "        print(h, w)"
      ],
      "metadata": {
        "colab": {
          "base_uri": "https://localhost:8080/"
        },
        "id": "XcrRoBeFx32F",
        "outputId": "4df857cb-5a3d-4c6c-ef9d-6cb62ddb5106"
      },
      "execution_count": null,
      "outputs": [
        {
          "output_type": "stream",
          "name": "stdout",
          "text": [
            "Jadwal hari dan waktu:\n",
            "Senin Pagi\n",
            "Senin Siang\n",
            "Senin Malam\n",
            "Selasa Pagi\n",
            "Selasa Siang\n",
            "Selasa Malam\n",
            "Rabu Pagi\n",
            "Rabu Siang\n",
            "Rabu Malam\n"
          ]
        }
      ]
    },
    {
      "cell_type": "code",
      "source": [
        "#Permainan Tebak Angka\n",
        "angka_rahasia = [1, 3, 5]\n",
        "angka_tebakan = [2, 3, 4, 5]\n",
        "print(\"Hasil tebakan angka:\")\n",
        "for rahasia in angka_rahasia:\n",
        "    for tebakan in angka_tebakan:\n",
        "        if rahasia == tebakan:\n",
        "            print(f\"Benar! Angka {tebakan} cocok.\")\n",
        "        else:\n",
        "            print(f\"Angka {tebakan} salah.\")"
      ],
      "metadata": {
        "colab": {
          "base_uri": "https://localhost:8080/"
        },
        "id": "3V_mWxdWyBnE",
        "outputId": "4d0dc5d3-2995-4d9f-933b-aa48ab8bfd35"
      },
      "execution_count": null,
      "outputs": [
        {
          "output_type": "stream",
          "name": "stdout",
          "text": [
            "Hasil tebakan angka:\n",
            "Angka 2 salah.\n",
            "Angka 3 salah.\n",
            "Angka 4 salah.\n",
            "Angka 5 salah.\n",
            "Angka 2 salah.\n",
            "Benar! Angka 3 cocok.\n",
            "Angka 4 salah.\n",
            "Angka 5 salah.\n",
            "Angka 2 salah.\n",
            "Angka 3 salah.\n",
            "Angka 4 salah.\n",
            "Benar! Angka 5 cocok.\n"
          ]
        }
      ]
    },
    {
      "cell_type": "markdown",
      "source": [
        "**ELSE, BREAK, CONTINUE**"
      ],
      "metadata": {
        "id": "zTPdmhVThBD0"
      }
    },
    {
      "cell_type": "code",
      "source": [
        "# ============ WHILE DENGAN ELSE ============ #\n",
        "\n",
        "b = 1\n",
        "while b < 5:\n",
        "    print(\"b masih lebih kecil dari 5\")\n",
        "    b = b + 1\n",
        "else:\n",
        "    print(\"b sekarang sama dengan 5\")\n",
        "\n",
        "\n",
        "# break : menghentikan iterasi total\n",
        "\n",
        "\n",
        "print(\"\\n-------BREAK-----------\")\n",
        "\n",
        "\n",
        "skill = [\"Python\", \"R\", \"Julia\", \"Scala\"]     # data dalam bentuk list\n",
        "\n",
        "print(\"start loop\")\n",
        "for val in skill:\n",
        "    # jika val = \"Julia\" hentikan iterasi\n",
        "    if val == \"Julia\":\n",
        "        break\n",
        "\n",
        "    print(\"  Bahasa\", val)\n",
        "\n",
        "print(\"end loop\")\n",
        "\n",
        "\n",
        "# continue ; menghentikan iterasi saat ini\n",
        "# dan langsung melanjutkan iterasi berikutnya\n",
        "\n",
        "print(\"\\n------CONTINUE---------\")\n",
        "\n",
        "print(\"start loop\")\n",
        "a = 0\n",
        "while a < 5:\n",
        "    a = a + 1\n",
        "\n",
        "    # jika nilai a 2 atau 3 : continue\n",
        "    if a == 2 or a == 3:\n",
        "        continue\n",
        "\n",
        "    print(\"  nilai a =\", a)\n",
        "\n",
        "print(\"end loop\")"
      ],
      "metadata": {
        "colab": {
          "base_uri": "https://localhost:8080/"
        },
        "id": "6xsE4xcIg6AX",
        "outputId": "99c3dad5-4159-495f-de03-f555d18890ea"
      },
      "execution_count": null,
      "outputs": [
        {
          "output_type": "stream",
          "name": "stdout",
          "text": [
            "b masih lebih kecil dari 5\n",
            "b masih lebih kecil dari 5\n",
            "b masih lebih kecil dari 5\n",
            "b masih lebih kecil dari 5\n",
            "b sekarang sama dengan 5\n",
            "\n",
            "-------BREAK-----------\n",
            "start loop\n",
            "  Bahasa Python\n",
            "  Bahasa R\n",
            "end loop\n",
            "\n",
            "------CONTINUE---------\n",
            "start loop\n",
            "  nilai a = 1\n",
            "  nilai a = 4\n",
            "  nilai a = 5\n",
            "end loop\n"
          ]
        }
      ]
    },
    {
      "cell_type": "code",
      "source": [
        "jumlah_barang = int(input(\"Masukkan jumlah barang yang dibeli: \"))\n",
        "\n",
        "total_belanja = 0\n",
        "for i in range(jumlah_barang):\n",
        "    harga_satuan = float(input(\"Masukkan harga satuan barang ke-\" + str(i+1) + \": \"))\n",
        "    jumlah_unit = int(input(\"Masukkan jumlah unit barang ke-\" + str(i+1) + \": \"))\n",
        "    total_harga_barang = harga_satuan * jumlah_unit\n",
        "    total_belanja += total_harga_barang\n",
        "\n",
        "print(\"Total belanja Anda adalah:\", total_belanja)"
      ],
      "metadata": {
        "colab": {
          "base_uri": "https://localhost:8080/"
        },
        "id": "qVTMKjZgcjS9",
        "outputId": "5d182d67-78e7-44df-93ce-fb4754f34f36"
      },
      "execution_count": 1,
      "outputs": [
        {
          "output_type": "stream",
          "name": "stdout",
          "text": [
            "Masukkan jumlah barang yang dibeli: 3\n",
            "Masukkan harga satuan barang ke-1: 5000\n",
            "Masukkan jumlah unit barang ke-1: 1\n",
            "Masukkan harga satuan barang ke-2: 3\n",
            "Masukkan jumlah unit barang ke-2: 10000\n",
            "Masukkan harga satuan barang ke-3: 5\n",
            "Masukkan jumlah unit barang ke-3: 15000\n",
            "Total belanja Anda adalah: 110000.0\n"
          ]
        }
      ]
    }
  ]
}