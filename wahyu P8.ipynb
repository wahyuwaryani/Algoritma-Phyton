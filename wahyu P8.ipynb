{
  "cells": [
    {
      "cell_type": "markdown",
      "metadata": {
        "id": "view-in-github",
        "colab_type": "text"
      },
      "source": [
        "<a href=\"https://colab.research.google.com/github/wahyuwaryani/Algoritma-Phyton/blob/main/wahyu%20P8.ipynb\" target=\"_parent\"><img src=\"https://colab.research.google.com/assets/colab-badge.svg\" alt=\"Open In Colab\"/></a>"
      ]
    },
    {
      "cell_type": "code",
      "source": [
        "S = [4,1,-1,10,0,12]\n",
        "\n",
        "D = int(input(\"Masukan nilai D\"))\n",
        "\n",
        "S = [x * D for x in S]\n",
        "print (\"array setelah dikalikan dengan D\", S)"
      ],
      "metadata": {
        "id": "FJ-FNvRwBL55",
        "outputId": "4bbc2a5b-728d-4f02-9a97-a46c2553eb72",
        "colab": {
          "base_uri": "https://localhost:8080/"
        }
      },
      "execution_count": 16,
      "outputs": [
        {
          "output_type": "stream",
          "name": "stdout",
          "text": [
            "Masukan nilai D2\n",
            "array setelah dikalikan dengan D [8, 2, -2, 20, 0, 24]\n"
          ]
        }
      ]
    },
    {
      "cell_type": "code",
      "source": [
        "def cari_terbesar(T):\n",
        "  terbesar = T[0]  # Anggap elemen pertama adalah terbesar sementara\n",
        "  for angka in T[1:]:  # Mulai dari elemen kedua\n",
        "    if angka > terbesar:\n",
        "      terbesar = angka\n",
        "  return terbesar\n",
        "\n",
        "# Contoh penggunaan\n",
        "array1 = [9, 12, 30, -1, 0, 4, -1, 3, 30, 14]\n",
        "array2 = [1, 3, 5, 8, 12, 90, 3, 5]\n",
        "\n",
        "print(cari_terbesar(array1))  # Output: 30\n",
        "print(cari_terbesar(array2))  # Output: 90"
      ],
      "metadata": {
        "id": "kIVnq4PaFegg",
        "outputId": "fe91c42e-ee53-4657-d520-e765fb158dd4",
        "colab": {
          "base_uri": "https://localhost:8080/"
        }
      },
      "execution_count": 17,
      "outputs": [
        {
          "output_type": "stream",
          "name": "stdout",
          "text": [
            "30\n",
            "90\n"
          ]
        }
      ]
    }
  ],
  "metadata": {
    "colab": {
      "name": "Welcome To Colab",
      "provenance": [],
      "include_colab_link": true
    },
    "kernelspec": {
      "display_name": "Python 3",
      "name": "python3"
    }
  },
  "nbformat": 4,
  "nbformat_minor": 0
}