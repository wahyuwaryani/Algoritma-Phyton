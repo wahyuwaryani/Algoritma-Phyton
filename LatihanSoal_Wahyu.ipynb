{
  "cells": [
    {
      "cell_type": "markdown",
      "metadata": {
        "id": "view-in-github",
        "colab_type": "text"
      },
      "source": [
        "<a href=\"https://colab.research.google.com/github/wahyuwaryani/Algoritma-Phyton/blob/main/LatihanSoal_Wahyu.ipynb\" target=\"_parent\"><img src=\"https://colab.research.google.com/assets/colab-badge.svg\" alt=\"Open In Colab\"/></a>"
      ]
    },
    {
      "cell_type": "code",
      "source": [
        "#program nama\n",
        "nama = input (\"Masukkan nama anda: \")\n",
        "print (f\"halo, {nama}! Selamat belajar python\")"
      ],
      "metadata": {
        "colab": {
          "base_uri": "https://localhost:8080/"
        },
        "id": "1udWYNUQ-fYj",
        "outputId": "7d5cdc3c-3088-4cbc-8200-318343f70a85"
      },
      "execution_count": 43,
      "outputs": [
        {
          "output_type": "stream",
          "name": "stdout",
          "text": [
            "Masukkan nama anda: wahyu waryani\n",
            "halo, wahyu waryani! Selamat belajar python\n"
          ]
        }
      ]
    },
    {
      "cell_type": "code",
      "source": [
        "#program menghitung luas persegi panjang\n",
        "panjang = float (input(\"Masukan panjang: \"))\n",
        "lebar = float (input(\"Masukan lebar: \"))\n",
        "luas = panjang * lebar\n",
        "print (\"luas\", luas)"
      ],
      "metadata": {
        "colab": {
          "base_uri": "https://localhost:8080/"
        },
        "id": "PPzXXQxlGew3",
        "outputId": "205a5686-0cff-4dad-ac40-52720685efdf"
      },
      "execution_count": 44,
      "outputs": [
        {
          "output_type": "stream",
          "name": "stdout",
          "text": [
            "Masukan panjang: 5\n",
            "Masukan lebar: 3\n",
            "luas 15.0\n"
          ]
        }
      ]
    },
    {
      "cell_type": "code",
      "source": [
        "#program memilih bilangan genap atau ganjil\n",
        "bilangan = int (input(\"Masukan bilangan bulat: \"))\n",
        "if bilangan % 2 == 0:\n",
        "    print (f\"Bilangan\", bilangan, \"adalah genap.\")\n",
        "else:\n",
        "    print (f\"Bilangan\", bilangan, \"adalah ganjil.\")"
      ],
      "metadata": {
        "colab": {
          "base_uri": "https://localhost:8080/"
        },
        "id": "vBdIIoenIAtT",
        "outputId": "b1181c4c-d97f-4f0e-a9af-443cd73d6988"
      },
      "execution_count": 45,
      "outputs": [
        {
          "output_type": "stream",
          "name": "stdout",
          "text": [
            "Masukan bilangan bulat: 7\n",
            "Bilangan 7 adalah ganjil.\n"
          ]
        }
      ]
    },
    {
      "cell_type": "code",
      "source": [
        "#buat bilangan menampilkan deret bilangan\n",
        "N = int(input())\n",
        "for i in range(1,N+1):\n",
        "  print(i, end=\" \")"
      ],
      "metadata": {
        "colab": {
          "base_uri": "https://localhost:8080/"
        },
        "id": "MRN38lYdKnKS",
        "outputId": "3868bc22-98da-4e80-b1bc-ac0d78562201"
      },
      "execution_count": 46,
      "outputs": [
        {
          "output_type": "stream",
          "name": "stdout",
          "text": [
            "20\n",
            "1 2 3 4 5 6 7 8 9 10 11 12 13 14 15 16 17 18 19 20 "
          ]
        }
      ]
    },
    {
      "cell_type": "code",
      "source": [
        "#program menghitung jumlah semua bilangan bulat a dan b\n",
        "a = int(input(\"Masukan bilangan a: \"))\n",
        "b = int(input(\"Masukan bilangan b: \"))\n",
        "jumlah = 0\n",
        "for i in range(a, b+1):\n",
        "  jumlah += i\n",
        "print(f\"jumlah dari {a} sampai {b} adalah {jumlah}\" )\n",
        "\n"
      ],
      "metadata": {
        "colab": {
          "base_uri": "https://localhost:8080/"
        },
        "id": "uyHc4o28Mz2h",
        "outputId": "02b32625-65fd-4e31-adc5-a6853c7054c5"
      },
      "execution_count": 42,
      "outputs": [
        {
          "output_type": "stream",
          "name": "stdout",
          "text": [
            "Masukan bilangan a: 3\n",
            "Masukan bilangan b: 7\n",
            "jumlah dari 3 sampai 7 adalah 25\n"
          ]
        }
      ]
    },
    {
      "cell_type": "code",
      "source": [
        "#program mencetak semua bilangan genap bulat a dan b\n",
        "a = int(input(\"Masukan bilangan a: \"))\n",
        "b = int(input(\"Masukan bilangan b: \"))\n",
        "print(\"Bilangan genap antara\", a, \"sampai\", b, \"adalah: \")\n",
        "for i in range(a, b+1):\n",
        "  if i % 2 == 0:\n",
        "    print((i), end=\" \")"
      ],
      "metadata": {
        "colab": {
          "base_uri": "https://localhost:8080/"
        },
        "id": "3agW_SriSWeQ",
        "outputId": "f5b240ae-7b7f-43cd-800c-ba9ed74b9d45"
      },
      "execution_count": 54,
      "outputs": [
        {
          "output_type": "stream",
          "name": "stdout",
          "text": [
            "Masukan bilangan a: 3\n",
            "Masukan bilangan b: 10\n",
            "Bilangan genap antara 3 sampai 10 adalah: \n",
            "4 6 8 10 "
          ]
        }
      ]
    },
    {
      "cell_type": "code",
      "source": [
        "#program mencetak nilai dari array dalam urutan terbalik\n",
        "A = [5,2,8,1]\n",
        "array_terbalik =[0] * len (A)\n",
        "for i in range (len(A)):\n",
        "    array_terbalik [len(A)-1-i]=A[i]\n",
        "print(\"array asli:\", A)\n",
        "print (\"array terbalik:\", array_terbalik)\n"
      ],
      "metadata": {
        "colab": {
          "base_uri": "https://localhost:8080/"
        },
        "id": "gxTbUfGHWeNI",
        "outputId": "e8138853-bc8f-4057-c290-336118e535f4"
      },
      "execution_count": 76,
      "outputs": [
        {
          "output_type": "stream",
          "name": "stdout",
          "text": [
            "array asli: [5, 2, 8, 1]\n",
            "array terbalik: [1, 8, 2, 5]\n"
          ]
        }
      ]
    },
    {
      "cell_type": "code",
      "source": [
        "#program menentukan bilangan prima\n",
        "angka = int(input(\"Masukan bilangan: \"))\n",
        "prima = True\n",
        "if angka < 2:\n",
        "  prima = False\n",
        "else:\n",
        "  for i in range(2, angka):\n",
        "    if angka % i == 0:\n",
        "      prima = False\n",
        "      break\n",
        "if prima:\n",
        "  print(f\"{angka} adalah bilangan prima. \")\n",
        "else:\n",
        "  print(f\"{angka} bukan bilangan prima. \")"
      ],
      "metadata": {
        "colab": {
          "base_uri": "https://localhost:8080/"
        },
        "id": "9yW_EH0LZHem",
        "outputId": "d04257b7-9667-4b1c-ffbd-8504f9a3f33a"
      },
      "execution_count": 64,
      "outputs": [
        {
          "output_type": "stream",
          "name": "stdout",
          "text": [
            "Masukan bilangan: 13\n",
            "13 adalah bilangan prima. \n"
          ]
        }
      ]
    }
  ],
  "metadata": {
    "colab": {
      "name": "Welcome To Colab",
      "toc_visible": true,
      "provenance": [],
      "include_colab_link": true
    },
    "kernelspec": {
      "display_name": "Python 3",
      "name": "python3"
    }
  },
  "nbformat": 4,
  "nbformat_minor": 0
}