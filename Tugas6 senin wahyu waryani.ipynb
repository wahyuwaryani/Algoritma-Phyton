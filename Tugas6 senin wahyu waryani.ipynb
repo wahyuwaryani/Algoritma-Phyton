{
  "cells": [
    {
      "cell_type": "markdown",
      "metadata": {
        "id": "view-in-github",
        "colab_type": "text"
      },
      "source": [
        "<a href=\"https://colab.research.google.com/github/wahyuwaryani/Algoritma-Phyton/blob/main/Tugas5%20senin%20wahyu%20waryani.ipynb\" target=\"_parent\"><img src=\"https://colab.research.google.com/assets/colab-badge.svg\" alt=\"Open In Colab\"/></a>"
      ]
    },
    {
      "cell_type": "code",
      "source": [
        "S = [4,1,-1,10,0,12]\n",
        "\n",
        "D = int(input(\"Masukan nilai D\"))\n",
        "\n",
        "S = [x * D for x in S]\n",
        "print (\"array setelah dikalikan dengan D\", S)"
      ],
      "metadata": {
        "id": "FJ-FNvRwBL55",
        "outputId": "4bbc2a5b-728d-4f02-9a97-a46c2553eb72",
        "colab": {
          "base_uri": "https://localhost:8080/"
        }
      },
      "execution_count": null,
      "outputs": [
        {
          "output_type": "stream",
          "name": "stdout",
          "text": [
            "Masukan nilai D2\n",
            "array setelah dikalikan dengan D [8, 2, -2, 20, 0, 24]\n"
          ]
        }
      ]
    },
    {
      "cell_type": "code",
      "source": [
        "# Soal 2 dengan bu Sevinurafni\n",
        "T1 = [9, 12, 30, -1, 0, 4, -1, 3, 30, 14]\n",
        "nilai_terbesar = max(T1)\n",
        "print (\"nilai terbesar dari T1 adalah\", nilai_terbesar)\n",
        "\n",
        "nilai_terkecil = min(T1)\n",
        "print (\"nilai terkecil dari T1 adalah\", nilai_terkecil)\n",
        "\n",
        "T2 = [1, 3, 5, 8, -12, 90, 3, 5]\n",
        "nilai_terbesar = max(T2)\n",
        "print (\"nilai terbesar dari T2 adalah\", nilai_terbesar)\n",
        "\n",
        "nilai_terkecil = min(T2)\n",
        "print (\"nilai terkecil dari T2 adalah\", nilai_terkecil)"
      ],
      "metadata": {
        "id": "kIVnq4PaFegg",
        "outputId": "9a8046e4-1812-46d7-b25d-1571d9690ed8",
        "colab": {
          "base_uri": "https://localhost:8080/"
        }
      },
      "execution_count": null,
      "outputs": [
        {
          "output_type": "stream",
          "name": "stdout",
          "text": [
            "nilai terbesar dari T1 adalah 30\n",
            "nilai terkecil dari T1 adalah -1\n",
            "nilai terbesar dari T2 adalah 90\n",
            "nilai terkecil dari T2 adalah -12\n"
          ]
        }
      ]
    }
  ],
  "metadata": {
    "colab": {
      "provenance": [],
      "include_colab_link": true
    },
    "kernelspec": {
      "display_name": "Python 3",
      "name": "python3"
    }
  },
  "nbformat": 4,
  "nbformat_minor": 0
}
