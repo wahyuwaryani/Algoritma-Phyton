{
  "cells": [
    {
      "cell_type": "markdown",
      "metadata": {
        "id": "view-in-github",
        "colab_type": "text"
      },
      "source": [
        "<a href=\"https://colab.research.google.com/github/wahyuwaryani/Algoritma-Phyton/blob/main/wahyu%20waryani%20tugas7.ipynb\" target=\"_parent\"><img src=\"https://colab.research.google.com/assets/colab-badge.svg\" alt=\"Open In Colab\"/></a>"
      ]
    },
    {
      "cell_type": "code",
      "source": [
        "#menghitung kelipatan 5\n",
        "jumlah_kelipatan_5 = 0\n",
        "N=100\n",
        "for i in range(1, 101):\n",
        "    if i % 5 == 0:\n",
        "        jumlah_kelipatan_5 += i\n",
        "        print(i)\n",
        "print(\"jumlah kelipatan 5 antara 1 s.d.N adalah\", ((i + 5)*20/2))"
      ],
      "metadata": {
        "id": "StiIVyc6jQoF",
        "outputId": "320a8de2-98ef-4072-c3a6-582ddde2d192",
        "colab": {
          "base_uri": "https://localhost:8080/"
        }
      },
      "execution_count": 2,
      "outputs": [
        {
          "output_type": "stream",
          "name": "stdout",
          "text": [
            "5\n",
            "10\n",
            "15\n",
            "20\n",
            "25\n",
            "30\n",
            "35\n",
            "40\n",
            "45\n",
            "50\n",
            "55\n",
            "60\n",
            "65\n",
            "70\n",
            "75\n",
            "80\n",
            "85\n",
            "90\n",
            "95\n",
            "100\n",
            "jumlah kelipatan 5 antara 1 s.d.N adalah 1050.0\n"
          ]
        }
      ]
    },
    {
      "cell_type": "code",
      "source": [
        "def lagu_anak_ayam_while(n):\n",
        "    while n > 0:\n",
        "        if n > 1:\n",
        "            print(f\"Anak ayam turunlah {n}, mati satu tinggallah {n-1}\")\n",
        "        else:\n",
        "            print(f\"Anak ayam turunlah {n}, mati satu tinggal induknya\")\n",
        "        n -= 1\n",
        "\n",
        "# Contoh pemanggilan fungsi\n",
        "lagu_anak_ayam_while(5)"
      ],
      "metadata": {
        "id": "Dj49mnIokHGt",
        "outputId": "fd52d277-0a69-45ad-cfaf-ffe27148d6d3",
        "colab": {
          "base_uri": "https://localhost:8080/"
        }
      },
      "execution_count": 3,
      "outputs": [
        {
          "output_type": "stream",
          "name": "stdout",
          "text": [
            "Anak ayam turunlah 5, mati satu tinggallah 4\n",
            "Anak ayam turunlah 4, mati satu tinggallah 3\n",
            "Anak ayam turunlah 3, mati satu tinggallah 2\n",
            "Anak ayam turunlah 2, mati satu tinggallah 1\n",
            "Anak ayam turunlah 1, mati satu tinggal induknya\n"
          ]
        }
      ]
    },
    {
      "cell_type": "code",
      "source": [
        "def lagu_anak_ayam_for(n):\n",
        "    for i in range(n, 0, -1):\n",
        "        if i > 1:\n",
        "            print(f\"Anak ayam turunlah {i}, mati satu tinggallah {i-1}\")\n",
        "        else:\n",
        "            print(f\"Anak ayam turunlah {i}, mati satu tinggal induknya\")\n",
        "\n",
        "# Contoh pemanggilan fungsi\n",
        "lagu_anak_ayam_for(5)"
      ],
      "metadata": {
        "id": "NEnztKHZkbNI",
        "outputId": "3ced1720-3611-4525-ae4b-226065ba63d0",
        "colab": {
          "base_uri": "https://localhost:8080/"
        }
      },
      "execution_count": 4,
      "outputs": [
        {
          "output_type": "stream",
          "name": "stdout",
          "text": [
            "Anak ayam turunlah 5, mati satu tinggallah 4\n",
            "Anak ayam turunlah 4, mati satu tinggallah 3\n",
            "Anak ayam turunlah 3, mati satu tinggallah 2\n",
            "Anak ayam turunlah 2, mati satu tinggallah 1\n",
            "Anak ayam turunlah 1, mati satu tinggal induknya\n"
          ]
        }
      ]
    },
    {
      "cell_type": "code",
      "source": [
        "def lagu_anak_ayam_format(n):\n",
        "    for i in range(n, 0, -1):\n",
        "        print(f\"Anak ayam turunlah {i}, mati satu tinggallah {i-1 if i > 1 else 'induknya'}\")\n",
        "\n",
        "# Contoh pemanggilan fungsi\n",
        "lagu_anak_ayam_format(5)"
      ],
      "metadata": {
        "id": "gEGOvz_wkfVN",
        "outputId": "e288182c-ccd7-457b-b04b-07202ace6944",
        "colab": {
          "base_uri": "https://localhost:8080/"
        }
      },
      "execution_count": 5,
      "outputs": [
        {
          "output_type": "stream",
          "name": "stdout",
          "text": [
            "Anak ayam turunlah 5, mati satu tinggallah 4\n",
            "Anak ayam turunlah 4, mati satu tinggallah 3\n",
            "Anak ayam turunlah 3, mati satu tinggallah 2\n",
            "Anak ayam turunlah 2, mati satu tinggallah 1\n",
            "Anak ayam turunlah 1, mati satu tinggallah induknya\n"
          ]
        }
      ]
    }
  ],
  "metadata": {
    "colab": {
      "name": "Welcome To Colab",
      "toc_visible": true,
      "provenance": [],
      "include_colab_link": true
    },
    "kernelspec": {
      "display_name": "Python 3",
      "name": "python3"
    }
  },
  "nbformat": 4,
  "nbformat_minor": 0
}