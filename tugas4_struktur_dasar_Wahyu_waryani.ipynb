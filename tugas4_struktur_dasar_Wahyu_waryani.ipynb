{
  "nbformat": 4,
  "nbformat_minor": 0,
  "metadata": {
    "colab": {
      "provenance": [],
      "authorship_tag": "ABX9TyNANmcZ9tBnaI8MiZbcKiWx",
      "include_colab_link": true
    },
    "kernelspec": {
      "name": "python3",
      "display_name": "Python 3"
    },
    "language_info": {
      "name": "python"
    }
  },
  "cells": [
    {
      "cell_type": "markdown",
      "metadata": {
        "id": "view-in-github",
        "colab_type": "text"
      },
      "source": [
        "<a href=\"https://colab.research.google.com/github/wahyuwaryani/Algoritma-Phyton/blob/main/tugas4_struktur_dasar_Wahyu_waryani.ipynb\" target=\"_parent\"><img src=\"https://colab.research.google.com/assets/colab-badge.svg\" alt=\"Open In Colab\"/></a>"
      ]
    },
    {
      "cell_type": "code",
      "execution_count": null,
      "metadata": {
        "id": "3d6aEKCsGhrd",
        "outputId": "9fe51127-8c6c-46ec-ec1c-aa001fc6aec1",
        "colab": {
          "base_uri": "https://localhost:8080/"
        }
      },
      "outputs": [
        {
          "output_type": "stream",
          "name": "stdout",
          "text": [
            "Masukan Nilai A: 3\n",
            "Masukan Nilai B: 6\n",
            "3\n",
            "6\n"
          ]
        }
      ],
      "source": [
        "#Program Test\n",
        "#Spesifikasi : Menghitung nilai A dan B\n",
        "\n",
        "#KAMUS\n",
        "#A : int\n",
        "#B : int\n",
        "\n",
        "#ALGORITMA\n",
        "A = int(input(\"Masukan Nilai A: \"))\n",
        "B= int(input(\"Masukan Nilai B: \"))\n",
        "\n",
        "print (A)\n",
        "print (B)"
      ]
    },
    {
      "cell_type": "code",
      "source": [
        "#Program tinggi rata-rata\n",
        "#Menerima harga 3 kelereng dan menghitung\n",
        "\n",
        "#KAMUS\n",
        "# M : int\n",
        "# H : int\n",
        "# K : int\n",
        "\n",
        "#Algoritma\n",
        "M = int(input(\"Masukan jumlah kelereng merah: \"))\n",
        "H = int(input(\"Masukan jumlah kelereng hijau: \"))\n",
        "K = int(input(\"Masukan jumlah kelereng kuning: \"))\n",
        "\n",
        "HargaPembayaran = (M*10 + H*15 +K*20 )\n",
        "print(HargaPembayaran)\n"
      ],
      "metadata": {
        "id": "cGijv4tRIAab",
        "outputId": "758038db-4321-4f28-db45-a68c1e854887",
        "colab": {
          "base_uri": "https://localhost:8080/"
        }
      },
      "execution_count": null,
      "outputs": [
        {
          "output_type": "stream",
          "name": "stdout",
          "text": [
            "Masukan jumlah kelereng merah: 10\n",
            "Masukan jumlah kelereng hijau: 15\n",
            "Masukan jumlah kelereng kuning: 20\n",
            "725\n"
          ]
        }
      ]
    },
    {
      "cell_type": "code",
      "source": [],
      "metadata": {
        "id": "kVU7AL2fJaaZ"
      },
      "execution_count": null,
      "outputs": []
    }
  ]
}